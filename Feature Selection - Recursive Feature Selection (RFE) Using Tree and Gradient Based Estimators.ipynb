{
 "cells": [
  {
   "cell_type": "markdown",
   "metadata": {},
   "source": [
    "# Feature Selection - Recursive Feature Selection (RFE) Using Tree and Gradient Based Estimators"
   ]
  },
  {
   "cell_type": "markdown",
   "metadata": {},
   "source": [
    "### Recursive Feature Elimination (RFE)\n",
    "\n",
    "As it’s name suggests, it eliminates the features recursively and build a model using remaining attributes then again calculates the model accuracy of the model..Moreover how it do it train the model on all the dataset and it tries to remove the least performing feature and again it trains the model and find out the feature importance among the remaining features and so on it’s kind of recursive so it tries to eliminate the features recursively.\n",
    "\n",
    "\n",
    "Scikit Learn does most of the heavy lifting just import RFE from sklearn. feature_selection and pass any classifier model to the RFE() method with the number of features to select. Using familiar Scikit Learn syntax, the .fit() method must then be called."
   ]
  },
  {
   "cell_type": "code",
   "execution_count": 2,
   "metadata": {},
   "outputs": [],
   "source": [
    "import numpy as np\n",
    "import pandas as pd\n",
    "import seaborn as sns\n",
    "import matplotlib.pyplot as plt\n",
    "%matplotlib inline"
   ]
  },
  {
   "cell_type": "code",
   "execution_count": 3,
   "metadata": {},
   "outputs": [],
   "source": [
    "from sklearn.model_selection import train_test_split\n",
    "from sklearn.ensemble import RandomForestClassifier\n",
    "from sklearn.feature_selection import SelectFromModel\n",
    "from sklearn.metrics import accuracy_score"
   ]
  },
  {
   "cell_type": "code",
   "execution_count": 4,
   "metadata": {},
   "outputs": [],
   "source": [
    "from sklearn.datasets import load_breast_cancer"
   ]
  },
  {
   "cell_type": "code",
   "execution_count": 5,
   "metadata": {},
   "outputs": [],
   "source": [
    "data = load_breast_cancer()"
   ]
  },
  {
   "cell_type": "code",
   "execution_count": 6,
   "metadata": {},
   "outputs": [
    {
     "data": {
      "text/plain": [
       "dict_keys(['data', 'target', 'frame', 'target_names', 'DESCR', 'feature_names', 'filename'])"
      ]
     },
     "execution_count": 6,
     "metadata": {},
     "output_type": "execute_result"
    }
   ],
   "source": [
    "data.keys()"
   ]
  },
  {
   "cell_type": "code",
   "execution_count": 7,
   "metadata": {},
   "outputs": [
    {
     "name": "stdout",
     "output_type": "stream",
     "text": [
      ".. _breast_cancer_dataset:\n",
      "\n",
      "Breast cancer wisconsin (diagnostic) dataset\n",
      "--------------------------------------------\n",
      "\n",
      "**Data Set Characteristics:**\n",
      "\n",
      "    :Number of Instances: 569\n",
      "\n",
      "    :Number of Attributes: 30 numeric, predictive attributes and the class\n",
      "\n",
      "    :Attribute Information:\n",
      "        - radius (mean of distances from center to points on the perimeter)\n",
      "        - texture (standard deviation of gray-scale values)\n",
      "        - perimeter\n",
      "        - area\n",
      "        - smoothness (local variation in radius lengths)\n",
      "        - compactness (perimeter^2 / area - 1.0)\n",
      "        - concavity (severity of concave portions of the contour)\n",
      "        - concave points (number of concave portions of the contour)\n",
      "        - symmetry\n",
      "        - fractal dimension (\"coastline approximation\" - 1)\n",
      "\n",
      "        The mean, standard error, and \"worst\" or largest (mean of the three\n",
      "        worst/largest values) of these features were computed for each image,\n",
      "        resulting in 30 features.  For instance, field 0 is Mean Radius, field\n",
      "        10 is Radius SE, field 20 is Worst Radius.\n",
      "\n",
      "        - class:\n",
      "                - WDBC-Malignant\n",
      "                - WDBC-Benign\n",
      "\n",
      "    :Summary Statistics:\n",
      "\n",
      "    ===================================== ====== ======\n",
      "                                           Min    Max\n",
      "    ===================================== ====== ======\n",
      "    radius (mean):                        6.981  28.11\n",
      "    texture (mean):                       9.71   39.28\n",
      "    perimeter (mean):                     43.79  188.5\n",
      "    area (mean):                          143.5  2501.0\n",
      "    smoothness (mean):                    0.053  0.163\n",
      "    compactness (mean):                   0.019  0.345\n",
      "    concavity (mean):                     0.0    0.427\n",
      "    concave points (mean):                0.0    0.201\n",
      "    symmetry (mean):                      0.106  0.304\n",
      "    fractal dimension (mean):             0.05   0.097\n",
      "    radius (standard error):              0.112  2.873\n",
      "    texture (standard error):             0.36   4.885\n",
      "    perimeter (standard error):           0.757  21.98\n",
      "    area (standard error):                6.802  542.2\n",
      "    smoothness (standard error):          0.002  0.031\n",
      "    compactness (standard error):         0.002  0.135\n",
      "    concavity (standard error):           0.0    0.396\n",
      "    concave points (standard error):      0.0    0.053\n",
      "    symmetry (standard error):            0.008  0.079\n",
      "    fractal dimension (standard error):   0.001  0.03\n",
      "    radius (worst):                       7.93   36.04\n",
      "    texture (worst):                      12.02  49.54\n",
      "    perimeter (worst):                    50.41  251.2\n",
      "    area (worst):                         185.2  4254.0\n",
      "    smoothness (worst):                   0.071  0.223\n",
      "    compactness (worst):                  0.027  1.058\n",
      "    concavity (worst):                    0.0    1.252\n",
      "    concave points (worst):               0.0    0.291\n",
      "    symmetry (worst):                     0.156  0.664\n",
      "    fractal dimension (worst):            0.055  0.208\n",
      "    ===================================== ====== ======\n",
      "\n",
      "    :Missing Attribute Values: None\n",
      "\n",
      "    :Class Distribution: 212 - Malignant, 357 - Benign\n",
      "\n",
      "    :Creator:  Dr. William H. Wolberg, W. Nick Street, Olvi L. Mangasarian\n",
      "\n",
      "    :Donor: Nick Street\n",
      "\n",
      "    :Date: November, 1995\n",
      "\n",
      "This is a copy of UCI ML Breast Cancer Wisconsin (Diagnostic) datasets.\n",
      "https://goo.gl/U2Uwz2\n",
      "\n",
      "Features are computed from a digitized image of a fine needle\n",
      "aspirate (FNA) of a breast mass.  They describe\n",
      "characteristics of the cell nuclei present in the image.\n",
      "\n",
      "Separating plane described above was obtained using\n",
      "Multisurface Method-Tree (MSM-T) [K. P. Bennett, \"Decision Tree\n",
      "Construction Via Linear Programming.\" Proceedings of the 4th\n",
      "Midwest Artificial Intelligence and Cognitive Science Society,\n",
      "pp. 97-101, 1992], a classification method which uses linear\n",
      "programming to construct a decision tree.  Relevant features\n",
      "were selected using an exhaustive search in the space of 1-4\n",
      "features and 1-3 separating planes.\n",
      "\n",
      "The actual linear program used to obtain the separating plane\n",
      "in the 3-dimensional space is that described in:\n",
      "[K. P. Bennett and O. L. Mangasarian: \"Robust Linear\n",
      "Programming Discrimination of Two Linearly Inseparable Sets\",\n",
      "Optimization Methods and Software 1, 1992, 23-34].\n",
      "\n",
      "This database is also available through the UW CS ftp server:\n",
      "\n",
      "ftp ftp.cs.wisc.edu\n",
      "cd math-prog/cpo-dataset/machine-learn/WDBC/\n",
      "\n",
      ".. topic:: References\n",
      "\n",
      "   - W.N. Street, W.H. Wolberg and O.L. Mangasarian. Nuclear feature extraction \n",
      "     for breast tumor diagnosis. IS&T/SPIE 1993 International Symposium on \n",
      "     Electronic Imaging: Science and Technology, volume 1905, pages 861-870,\n",
      "     San Jose, CA, 1993.\n",
      "   - O.L. Mangasarian, W.N. Street and W.H. Wolberg. Breast cancer diagnosis and \n",
      "     prognosis via linear programming. Operations Research, 43(4), pages 570-577, \n",
      "     July-August 1995.\n",
      "   - W.H. Wolberg, W.N. Street, and O.L. Mangasarian. Machine learning techniques\n",
      "     to diagnose breast cancer from fine-needle aspirates. Cancer Letters 77 (1994) \n",
      "     163-171.\n"
     ]
    }
   ],
   "source": [
    "print(data.DESCR)"
   ]
  },
  {
   "cell_type": "code",
   "execution_count": 8,
   "metadata": {},
   "outputs": [
    {
     "data": {
      "text/html": [
       "<div>\n",
       "<style scoped>\n",
       "    .dataframe tbody tr th:only-of-type {\n",
       "        vertical-align: middle;\n",
       "    }\n",
       "\n",
       "    .dataframe tbody tr th {\n",
       "        vertical-align: top;\n",
       "    }\n",
       "\n",
       "    .dataframe thead th {\n",
       "        text-align: right;\n",
       "    }\n",
       "</style>\n",
       "<table border=\"1\" class=\"dataframe\">\n",
       "  <thead>\n",
       "    <tr style=\"text-align: right;\">\n",
       "      <th></th>\n",
       "      <th>mean radius</th>\n",
       "      <th>mean texture</th>\n",
       "      <th>mean perimeter</th>\n",
       "      <th>mean area</th>\n",
       "      <th>mean smoothness</th>\n",
       "      <th>mean compactness</th>\n",
       "      <th>mean concavity</th>\n",
       "      <th>mean concave points</th>\n",
       "      <th>mean symmetry</th>\n",
       "      <th>mean fractal dimension</th>\n",
       "      <th>...</th>\n",
       "      <th>worst radius</th>\n",
       "      <th>worst texture</th>\n",
       "      <th>worst perimeter</th>\n",
       "      <th>worst area</th>\n",
       "      <th>worst smoothness</th>\n",
       "      <th>worst compactness</th>\n",
       "      <th>worst concavity</th>\n",
       "      <th>worst concave points</th>\n",
       "      <th>worst symmetry</th>\n",
       "      <th>worst fractal dimension</th>\n",
       "    </tr>\n",
       "  </thead>\n",
       "  <tbody>\n",
       "    <tr>\n",
       "      <th>0</th>\n",
       "      <td>17.99</td>\n",
       "      <td>10.38</td>\n",
       "      <td>122.80</td>\n",
       "      <td>1001.0</td>\n",
       "      <td>0.11840</td>\n",
       "      <td>0.27760</td>\n",
       "      <td>0.3001</td>\n",
       "      <td>0.14710</td>\n",
       "      <td>0.2419</td>\n",
       "      <td>0.07871</td>\n",
       "      <td>...</td>\n",
       "      <td>25.38</td>\n",
       "      <td>17.33</td>\n",
       "      <td>184.60</td>\n",
       "      <td>2019.0</td>\n",
       "      <td>0.1622</td>\n",
       "      <td>0.6656</td>\n",
       "      <td>0.7119</td>\n",
       "      <td>0.2654</td>\n",
       "      <td>0.4601</td>\n",
       "      <td>0.11890</td>\n",
       "    </tr>\n",
       "    <tr>\n",
       "      <th>1</th>\n",
       "      <td>20.57</td>\n",
       "      <td>17.77</td>\n",
       "      <td>132.90</td>\n",
       "      <td>1326.0</td>\n",
       "      <td>0.08474</td>\n",
       "      <td>0.07864</td>\n",
       "      <td>0.0869</td>\n",
       "      <td>0.07017</td>\n",
       "      <td>0.1812</td>\n",
       "      <td>0.05667</td>\n",
       "      <td>...</td>\n",
       "      <td>24.99</td>\n",
       "      <td>23.41</td>\n",
       "      <td>158.80</td>\n",
       "      <td>1956.0</td>\n",
       "      <td>0.1238</td>\n",
       "      <td>0.1866</td>\n",
       "      <td>0.2416</td>\n",
       "      <td>0.1860</td>\n",
       "      <td>0.2750</td>\n",
       "      <td>0.08902</td>\n",
       "    </tr>\n",
       "    <tr>\n",
       "      <th>2</th>\n",
       "      <td>19.69</td>\n",
       "      <td>21.25</td>\n",
       "      <td>130.00</td>\n",
       "      <td>1203.0</td>\n",
       "      <td>0.10960</td>\n",
       "      <td>0.15990</td>\n",
       "      <td>0.1974</td>\n",
       "      <td>0.12790</td>\n",
       "      <td>0.2069</td>\n",
       "      <td>0.05999</td>\n",
       "      <td>...</td>\n",
       "      <td>23.57</td>\n",
       "      <td>25.53</td>\n",
       "      <td>152.50</td>\n",
       "      <td>1709.0</td>\n",
       "      <td>0.1444</td>\n",
       "      <td>0.4245</td>\n",
       "      <td>0.4504</td>\n",
       "      <td>0.2430</td>\n",
       "      <td>0.3613</td>\n",
       "      <td>0.08758</td>\n",
       "    </tr>\n",
       "    <tr>\n",
       "      <th>3</th>\n",
       "      <td>11.42</td>\n",
       "      <td>20.38</td>\n",
       "      <td>77.58</td>\n",
       "      <td>386.1</td>\n",
       "      <td>0.14250</td>\n",
       "      <td>0.28390</td>\n",
       "      <td>0.2414</td>\n",
       "      <td>0.10520</td>\n",
       "      <td>0.2597</td>\n",
       "      <td>0.09744</td>\n",
       "      <td>...</td>\n",
       "      <td>14.91</td>\n",
       "      <td>26.50</td>\n",
       "      <td>98.87</td>\n",
       "      <td>567.7</td>\n",
       "      <td>0.2098</td>\n",
       "      <td>0.8663</td>\n",
       "      <td>0.6869</td>\n",
       "      <td>0.2575</td>\n",
       "      <td>0.6638</td>\n",
       "      <td>0.17300</td>\n",
       "    </tr>\n",
       "    <tr>\n",
       "      <th>4</th>\n",
       "      <td>20.29</td>\n",
       "      <td>14.34</td>\n",
       "      <td>135.10</td>\n",
       "      <td>1297.0</td>\n",
       "      <td>0.10030</td>\n",
       "      <td>0.13280</td>\n",
       "      <td>0.1980</td>\n",
       "      <td>0.10430</td>\n",
       "      <td>0.1809</td>\n",
       "      <td>0.05883</td>\n",
       "      <td>...</td>\n",
       "      <td>22.54</td>\n",
       "      <td>16.67</td>\n",
       "      <td>152.20</td>\n",
       "      <td>1575.0</td>\n",
       "      <td>0.1374</td>\n",
       "      <td>0.2050</td>\n",
       "      <td>0.4000</td>\n",
       "      <td>0.1625</td>\n",
       "      <td>0.2364</td>\n",
       "      <td>0.07678</td>\n",
       "    </tr>\n",
       "  </tbody>\n",
       "</table>\n",
       "<p>5 rows × 30 columns</p>\n",
       "</div>"
      ],
      "text/plain": [
       "   mean radius  mean texture  mean perimeter  mean area  mean smoothness  \\\n",
       "0        17.99         10.38          122.80     1001.0          0.11840   \n",
       "1        20.57         17.77          132.90     1326.0          0.08474   \n",
       "2        19.69         21.25          130.00     1203.0          0.10960   \n",
       "3        11.42         20.38           77.58      386.1          0.14250   \n",
       "4        20.29         14.34          135.10     1297.0          0.10030   \n",
       "\n",
       "   mean compactness  mean concavity  mean concave points  mean symmetry  \\\n",
       "0           0.27760          0.3001              0.14710         0.2419   \n",
       "1           0.07864          0.0869              0.07017         0.1812   \n",
       "2           0.15990          0.1974              0.12790         0.2069   \n",
       "3           0.28390          0.2414              0.10520         0.2597   \n",
       "4           0.13280          0.1980              0.10430         0.1809   \n",
       "\n",
       "   mean fractal dimension  ...  worst radius  worst texture  worst perimeter  \\\n",
       "0                 0.07871  ...         25.38          17.33           184.60   \n",
       "1                 0.05667  ...         24.99          23.41           158.80   \n",
       "2                 0.05999  ...         23.57          25.53           152.50   \n",
       "3                 0.09744  ...         14.91          26.50            98.87   \n",
       "4                 0.05883  ...         22.54          16.67           152.20   \n",
       "\n",
       "   worst area  worst smoothness  worst compactness  worst concavity  \\\n",
       "0      2019.0            0.1622             0.6656           0.7119   \n",
       "1      1956.0            0.1238             0.1866           0.2416   \n",
       "2      1709.0            0.1444             0.4245           0.4504   \n",
       "3       567.7            0.2098             0.8663           0.6869   \n",
       "4      1575.0            0.1374             0.2050           0.4000   \n",
       "\n",
       "   worst concave points  worst symmetry  worst fractal dimension  \n",
       "0                0.2654          0.4601                  0.11890  \n",
       "1                0.1860          0.2750                  0.08902  \n",
       "2                0.2430          0.3613                  0.08758  \n",
       "3                0.2575          0.6638                  0.17300  \n",
       "4                0.1625          0.2364                  0.07678  \n",
       "\n",
       "[5 rows x 30 columns]"
      ]
     },
     "execution_count": 8,
     "metadata": {},
     "output_type": "execute_result"
    }
   ],
   "source": [
    "x = pd.DataFrame(data.data, columns=data.feature_names)\n",
    "x.head()"
   ]
  },
  {
   "cell_type": "code",
   "execution_count": 9,
   "metadata": {},
   "outputs": [],
   "source": [
    "y = data.target"
   ]
  },
  {
   "cell_type": "code",
   "execution_count": 10,
   "metadata": {},
   "outputs": [],
   "source": [
    "x_train, x_test, y_train, y_test = train_test_split(x, y, test_size=0.2, random_state=0)"
   ]
  },
  {
   "cell_type": "code",
   "execution_count": 11,
   "metadata": {},
   "outputs": [
    {
     "data": {
      "text/plain": [
       "((455, 30), (114, 30), (455,), (114,))"
      ]
     },
     "execution_count": 11,
     "metadata": {},
     "output_type": "execute_result"
    }
   ],
   "source": [
    "x_train.shape, x_test.shape, y_train.shape, y_test.shape"
   ]
  },
  {
   "cell_type": "markdown",
   "metadata": {},
   "source": [
    "### Feature Selection by Feature Importance Using Random Forest Classifier (RFC)"
   ]
  },
  {
   "cell_type": "code",
   "execution_count": 12,
   "metadata": {},
   "outputs": [
    {
     "data": {
      "text/plain": [
       "array([ True, False,  True,  True, False, False,  True,  True, False,\n",
       "       False, False, False, False,  True, False, False, False, False,\n",
       "       False, False,  True, False,  True,  True, False, False, False,\n",
       "        True, False, False])"
      ]
     },
     "execution_count": 12,
     "metadata": {},
     "output_type": "execute_result"
    }
   ],
   "source": [
    "sel = SelectFromModel(RandomForestClassifier(n_estimators=100, random_state=0, n_jobs=-1))\n",
    "sel.fit(x_train, y_train)"
   ]
  },
  {
   "cell_type": "markdown",
   "metadata": {},
   "source": [
    "True are selected and False are ignored."
   ]
  },
  {
   "cell_type": "code",
   "execution_count": 18,
   "metadata": {},
   "outputs": [
    {
     "data": {
      "text/plain": [
       "0.03333333333333334"
      ]
     },
     "execution_count": 18,
     "metadata": {},
     "output_type": "execute_result"
    }
   ],
   "source": [
    "np.mean(sel.estimator_.feature_importances_)"
   ]
  },
  {
   "cell_type": "code",
   "execution_count": 20,
   "metadata": {},
   "outputs": [
    {
     "data": {
      "text/plain": [
       "array([0.03699612, 0.01561296, 0.06016409, 0.0371452 , 0.0063401 ,\n",
       "       0.00965994, 0.0798662 , 0.08669071, 0.00474992, 0.00417092,\n",
       "       0.02407355, 0.00548033, 0.01254423, 0.03880038, 0.00379521,\n",
       "       0.00435162, 0.00452503, 0.00556905, 0.00610635, 0.00528878,\n",
       "       0.09556258, 0.01859305, 0.17205401, 0.05065305, 0.00943096,\n",
       "       0.01565491, 0.02443166, 0.14202709, 0.00964898, 0.01001304])"
      ]
     },
     "execution_count": 20,
     "metadata": {},
     "output_type": "execute_result"
    }
   ],
   "source": [
    "sel.estimator_.feature_importances_"
   ]
  },
  {
   "cell_type": "code",
   "execution_count": 21,
   "metadata": {},
   "outputs": [
    {
     "data": {
      "text/plain": [
       "array([ True, False,  True,  True, False, False,  True,  True, False,\n",
       "       False, False, False, False,  True, False, False, False, False,\n",
       "       False, False,  True, False,  True,  True, False, False, False,\n",
       "        True, False, False])"
      ]
     },
     "execution_count": 21,
     "metadata": {},
     "output_type": "execute_result"
    }
   ],
   "source": [
    "# Features greater than mean will be selected.\n",
    "sel.get_support()"
   ]
  },
  {
   "cell_type": "code",
   "execution_count": 13,
   "metadata": {},
   "outputs": [
    {
     "data": {
      "text/plain": [
       "30"
      ]
     },
     "execution_count": 13,
     "metadata": {},
     "output_type": "execute_result"
    }
   ],
   "source": [
    "len(sel.get_support())"
   ]
  },
  {
   "cell_type": "code",
   "execution_count": 14,
   "metadata": {},
   "outputs": [
    {
     "data": {
      "text/plain": [
       "Index(['mean radius', 'mean texture', 'mean perimeter', 'mean area',\n",
       "       'mean smoothness', 'mean compactness', 'mean concavity',\n",
       "       'mean concave points', 'mean symmetry', 'mean fractal dimension',\n",
       "       'radius error', 'texture error', 'perimeter error', 'area error',\n",
       "       'smoothness error', 'compactness error', 'concavity error',\n",
       "       'concave points error', 'symmetry error', 'fractal dimension error',\n",
       "       'worst radius', 'worst texture', 'worst perimeter', 'worst area',\n",
       "       'worst smoothness', 'worst compactness', 'worst concavity',\n",
       "       'worst concave points', 'worst symmetry', 'worst fractal dimension'],\n",
       "      dtype='object')"
      ]
     },
     "execution_count": 14,
     "metadata": {},
     "output_type": "execute_result"
    }
   ],
   "source": [
    "x_train.columns"
   ]
  },
  {
   "cell_type": "code",
   "execution_count": 15,
   "metadata": {},
   "outputs": [],
   "source": [
    "# Selecting True columns fro training dataset\n",
    "features = x_train.columns[sel.get_support()]"
   ]
  },
  {
   "cell_type": "code",
   "execution_count": 17,
   "metadata": {},
   "outputs": [
    {
     "data": {
      "text/plain": [
       "(Index(['mean radius', 'mean perimeter', 'mean area', 'mean concavity',\n",
       "        'mean concave points', 'area error', 'worst radius', 'worst perimeter',\n",
       "        'worst area', 'worst concave points'],\n",
       "       dtype='object'),\n",
       " 10)"
      ]
     },
     "execution_count": 17,
     "metadata": {},
     "output_type": "execute_result"
    }
   ],
   "source": [
    "features, len(features)"
   ]
  },
  {
   "cell_type": "code",
   "execution_count": 22,
   "metadata": {},
   "outputs": [],
   "source": [
    "x_train_rfc = sel.transform(x_train)\n",
    "x_test_rfc = sel.transform(x_test)"
   ]
  },
  {
   "cell_type": "code",
   "execution_count": 46,
   "metadata": {},
   "outputs": [],
   "source": [
    "def run_random_forest(x_train, x_test, y_train, y_test):\n",
    "    clf = RandomForestClassifier(n_estimators=100, random_state=0, n_jobs=-1)\n",
    "    clf.fit(x_train, y_train)\n",
    "    y_pred = clf.predict(x_test)\n",
    "    print(\"Accuracy on test set: \", accuracy_score(y_test, y_pred))\n",
    "    print()"
   ]
  },
  {
   "cell_type": "code",
   "execution_count": 24,
   "metadata": {},
   "outputs": [
    {
     "name": "stdout",
     "output_type": "stream",
     "text": [
      "Accuracy on test set: \n",
      "0.9473684210526315\n",
      "CPU times: user 354 ms, sys: 67.4 ms, total: 421 ms\n",
      "Wall time: 331 ms\n"
     ]
    }
   ],
   "source": [
    "%%time\n",
    "# After processing the data.\n",
    "run_random_forest(x_train_rfc, x_test_rfc, y_train, y_test)"
   ]
  },
  {
   "cell_type": "code",
   "execution_count": 25,
   "metadata": {},
   "outputs": [
    {
     "name": "stdout",
     "output_type": "stream",
     "text": [
      "Accuracy on test set: \n",
      "0.9649122807017544\n",
      "CPU times: user 435 ms, sys: 54.2 ms, total: 490 ms\n",
      "Wall time: 403 ms\n"
     ]
    }
   ],
   "source": [
    "%%time\n",
    "# Original data.\n",
    "run_random_forest(x_train, x_test, y_train, y_test)"
   ]
  },
  {
   "cell_type": "markdown",
   "metadata": {},
   "source": [
    "Here we can see that after feature selection the accuracy has been decreased."
   ]
  },
  {
   "cell_type": "markdown",
   "metadata": {},
   "source": [
    "### Recursive Feature Elimination (RFE)"
   ]
  },
  {
   "cell_type": "code",
   "execution_count": 26,
   "metadata": {},
   "outputs": [],
   "source": [
    "from sklearn.feature_selection import RFE"
   ]
  },
  {
   "cell_type": "code",
   "execution_count": 28,
   "metadata": {},
   "outputs": [
    {
     "data": {
      "text/plain": [
       "RFE(estimator=RandomForestClassifier(n_jobs=-1, random_state=0),\n",
       "    n_features_to_select=15)"
      ]
     },
     "execution_count": 28,
     "metadata": {},
     "output_type": "execute_result"
    }
   ],
   "source": [
    "sel = RFE(RandomForestClassifier(n_estimators=100, random_state=0, n_jobs=-1), n_features_to_select = 15)\n",
    "sel.fit(x_train, y_train)"
   ]
  },
  {
   "cell_type": "code",
   "execution_count": 29,
   "metadata": {},
   "outputs": [
    {
     "data": {
      "text/plain": [
       "array([ True,  True,  True,  True, False, False,  True,  True, False,\n",
       "       False, False, False, False,  True, False, False, False, False,\n",
       "       False, False,  True,  True,  True,  True,  True, False,  True,\n",
       "        True,  True, False])"
      ]
     },
     "execution_count": 29,
     "metadata": {},
     "output_type": "execute_result"
    }
   ],
   "source": [
    "sel.get_support()"
   ]
  },
  {
   "cell_type": "code",
   "execution_count": 30,
   "metadata": {},
   "outputs": [
    {
     "data": {
      "text/plain": [
       "Index(['mean radius', 'mean texture', 'mean perimeter', 'mean area',\n",
       "       'mean concavity', 'mean concave points', 'area error', 'worst radius',\n",
       "       'worst texture', 'worst perimeter', 'worst area', 'worst smoothness',\n",
       "       'worst concavity', 'worst concave points', 'worst symmetry'],\n",
       "      dtype='object')"
      ]
     },
     "execution_count": 30,
     "metadata": {},
     "output_type": "execute_result"
    }
   ],
   "source": [
    "features = x_train.columns[sel.get_support()]\n",
    "features"
   ]
  },
  {
   "cell_type": "code",
   "execution_count": 31,
   "metadata": {},
   "outputs": [
    {
     "data": {
      "text/plain": [
       "15"
      ]
     },
     "execution_count": 31,
     "metadata": {},
     "output_type": "execute_result"
    }
   ],
   "source": [
    "len(features)"
   ]
  },
  {
   "cell_type": "code",
   "execution_count": 32,
   "metadata": {},
   "outputs": [],
   "source": [
    "x_train_rfe = sel.transform(x_train)\n",
    "x_test_rfe = sel.transform(x_test)"
   ]
  },
  {
   "cell_type": "code",
   "execution_count": 33,
   "metadata": {},
   "outputs": [
    {
     "name": "stdout",
     "output_type": "stream",
     "text": [
      "Accuracy on test set: \n",
      "0.9736842105263158\n",
      "CPU times: user 378 ms, sys: 62 ms, total: 440 ms\n",
      "Wall time: 358 ms\n"
     ]
    }
   ],
   "source": [
    "%%time\n",
    "# After processing the data.\n",
    "run_random_forest(x_train_rfe, x_test_rfe, y_train, y_test)"
   ]
  },
  {
   "cell_type": "code",
   "execution_count": 34,
   "metadata": {},
   "outputs": [
    {
     "name": "stdout",
     "output_type": "stream",
     "text": [
      "Accuracy on test set: \n",
      "0.9649122807017544\n",
      "CPU times: user 376 ms, sys: 49.5 ms, total: 426 ms\n",
      "Wall time: 354 ms\n"
     ]
    }
   ],
   "source": [
    "%%time\n",
    "# Original data.\n",
    "run_random_forest(x_train, x_test, y_train, y_test)"
   ]
  },
  {
   "cell_type": "markdown",
   "metadata": {},
   "source": [
    "Here we can see that after feature selection the accuracy has been increased."
   ]
  },
  {
   "cell_type": "markdown",
   "metadata": {},
   "source": [
    "### Feature Selection Using Gradient Boost Tree Importance"
   ]
  },
  {
   "cell_type": "code",
   "execution_count": 35,
   "metadata": {},
   "outputs": [],
   "source": [
    "from sklearn.ensemble import GradientBoostingClassifier"
   ]
  },
  {
   "cell_type": "code",
   "execution_count": 37,
   "metadata": {},
   "outputs": [
    {
     "data": {
      "text/plain": [
       "RFE(estimator=GradientBoostingClassifier(random_state=0),\n",
       "    n_features_to_select=12)"
      ]
     },
     "execution_count": 37,
     "metadata": {},
     "output_type": "execute_result"
    }
   ],
   "source": [
    "sel = RFE(GradientBoostingClassifier(n_estimators=100, random_state=0), n_features_to_select = 12)\n",
    "sel.fit(x_train, y_train)"
   ]
  },
  {
   "cell_type": "code",
   "execution_count": 38,
   "metadata": {},
   "outputs": [
    {
     "data": {
      "text/plain": [
       "array([False,  True, False, False,  True, False, False,  True,  True,\n",
       "       False, False, False, False,  True, False, False,  True, False,\n",
       "       False, False,  True,  True,  True,  True, False, False,  True,\n",
       "        True, False, False])"
      ]
     },
     "execution_count": 38,
     "metadata": {},
     "output_type": "execute_result"
    }
   ],
   "source": [
    "sel.get_support()"
   ]
  },
  {
   "cell_type": "code",
   "execution_count": 39,
   "metadata": {},
   "outputs": [
    {
     "data": {
      "text/plain": [
       "Index(['mean texture', 'mean smoothness', 'mean concave points',\n",
       "       'mean symmetry', 'area error', 'concavity error', 'worst radius',\n",
       "       'worst texture', 'worst perimeter', 'worst area', 'worst concavity',\n",
       "       'worst concave points'],\n",
       "      dtype='object')"
      ]
     },
     "execution_count": 39,
     "metadata": {},
     "output_type": "execute_result"
    }
   ],
   "source": [
    "features = x_train.columns[sel.get_support()]\n",
    "features"
   ]
  },
  {
   "cell_type": "code",
   "execution_count": 40,
   "metadata": {},
   "outputs": [
    {
     "data": {
      "text/plain": [
       "12"
      ]
     },
     "execution_count": 40,
     "metadata": {},
     "output_type": "execute_result"
    }
   ],
   "source": [
    "len(features)"
   ]
  },
  {
   "cell_type": "code",
   "execution_count": 42,
   "metadata": {},
   "outputs": [],
   "source": [
    "x_train_gra = sel.transform(x_train)\n",
    "x_test_gra = sel.transform(x_test)"
   ]
  },
  {
   "cell_type": "code",
   "execution_count": 43,
   "metadata": {},
   "outputs": [
    {
     "name": "stdout",
     "output_type": "stream",
     "text": [
      "Accuracy on test set: \n",
      "0.9736842105263158\n",
      "CPU times: user 334 ms, sys: 70.9 ms, total: 405 ms\n",
      "Wall time: 310 ms\n"
     ]
    }
   ],
   "source": [
    "%%time\n",
    "# After processing the data.\n",
    "run_random_forest(x_train_gra, x_test_gra, y_train, y_test)"
   ]
  },
  {
   "cell_type": "code",
   "execution_count": 44,
   "metadata": {},
   "outputs": [
    {
     "name": "stdout",
     "output_type": "stream",
     "text": [
      "Accuracy on test set: \n",
      "0.9649122807017544\n",
      "CPU times: user 396 ms, sys: 47 ms, total: 443 ms\n",
      "Wall time: 377 ms\n"
     ]
    }
   ],
   "source": [
    "%%time\n",
    "# Original data.\n",
    "run_random_forest(x_train, x_test, y_train, y_test)"
   ]
  },
  {
   "cell_type": "markdown",
   "metadata": {},
   "source": [
    "### How to find the \"n_features_to_select\" value?"
   ]
  },
  {
   "cell_type": "code",
   "execution_count": 47,
   "metadata": {},
   "outputs": [
    {
     "name": "stdout",
     "output_type": "stream",
     "text": [
      "Selected Features:  1\n",
      "Accuracy on test set:  0.8771929824561403\n",
      "\n",
      "Index(['worst concave points'], dtype='object')\n",
      "\n",
      "Selected Features:  2\n",
      "Accuracy on test set:  0.9035087719298246\n",
      "\n",
      "Index(['mean concave points', 'worst concave points'], dtype='object')\n",
      "\n",
      "Selected Features:  3\n",
      "Accuracy on test set:  0.9649122807017544\n",
      "\n",
      "Index(['mean concave points', 'worst area', 'worst concave points'], dtype='object')\n",
      "\n",
      "Selected Features:  4\n",
      "Accuracy on test set:  0.9736842105263158\n",
      "\n",
      "Index(['mean concave points', 'worst texture', 'worst area',\n",
      "       'worst concave points'],\n",
      "      dtype='object')\n",
      "\n",
      "Selected Features:  5\n",
      "Accuracy on test set:  0.9649122807017544\n",
      "\n",
      "Index(['mean concave points', 'worst texture', 'worst perimeter', 'worst area',\n",
      "       'worst concave points'],\n",
      "      dtype='object')\n",
      "\n",
      "Selected Features:  6\n",
      "Accuracy on test set:  0.9912280701754386\n",
      "\n",
      "Index(['mean concave points', 'area error', 'worst texture', 'worst perimeter',\n",
      "       'worst area', 'worst concave points'],\n",
      "      dtype='object')\n",
      "\n",
      "Selected Features:  7\n",
      "Accuracy on test set:  0.9736842105263158\n",
      "\n",
      "Index(['mean concave points', 'area error', 'worst texture', 'worst perimeter',\n",
      "       'worst area', 'worst concavity', 'worst concave points'],\n",
      "      dtype='object')\n",
      "\n",
      "Selected Features:  8\n",
      "Accuracy on test set:  0.9649122807017544\n",
      "\n",
      "Index(['mean concave points', 'area error', 'worst radius', 'worst texture',\n",
      "       'worst perimeter', 'worst area', 'worst concavity',\n",
      "       'worst concave points'],\n",
      "      dtype='object')\n",
      "\n",
      "Selected Features:  9\n",
      "Accuracy on test set:  0.9736842105263158\n",
      "\n",
      "Index(['mean smoothness', 'mean concave points', 'area error', 'worst radius',\n",
      "       'worst texture', 'worst perimeter', 'worst area', 'worst concavity',\n",
      "       'worst concave points'],\n",
      "      dtype='object')\n",
      "\n",
      "Selected Features:  10\n",
      "Accuracy on test set:  0.956140350877193\n",
      "\n",
      "Index(['mean smoothness', 'mean concave points', 'mean symmetry', 'area error',\n",
      "       'worst radius', 'worst texture', 'worst perimeter', 'worst area',\n",
      "       'worst concavity', 'worst concave points'],\n",
      "      dtype='object')\n",
      "\n",
      "Selected Features:  11\n",
      "Accuracy on test set:  0.956140350877193\n",
      "\n",
      "Index(['mean smoothness', 'mean concave points', 'mean symmetry', 'area error',\n",
      "       'concavity error', 'worst radius', 'worst texture', 'worst perimeter',\n",
      "       'worst area', 'worst concavity', 'worst concave points'],\n",
      "      dtype='object')\n",
      "\n",
      "Selected Features:  12\n",
      "Accuracy on test set:  0.9736842105263158\n",
      "\n",
      "Index(['mean texture', 'mean smoothness', 'mean concave points',\n",
      "       'mean symmetry', 'area error', 'concavity error', 'worst radius',\n",
      "       'worst texture', 'worst perimeter', 'worst area', 'worst concavity',\n",
      "       'worst concave points'],\n",
      "      dtype='object')\n",
      "\n",
      "Selected Features:  13\n",
      "Accuracy on test set:  0.956140350877193\n",
      "\n",
      "Index(['mean texture', 'mean smoothness', 'mean concave points',\n",
      "       'mean symmetry', 'radius error', 'area error', 'concavity error',\n",
      "       'worst radius', 'worst texture', 'worst perimeter', 'worst area',\n",
      "       'worst concavity', 'worst concave points'],\n",
      "      dtype='object')\n",
      "\n",
      "Selected Features:  14\n",
      "Accuracy on test set:  0.956140350877193\n",
      "\n",
      "Index(['mean texture', 'mean smoothness', 'mean concave points',\n",
      "       'mean symmetry', 'radius error', 'area error', 'concavity error',\n",
      "       'worst radius', 'worst texture', 'worst perimeter', 'worst area',\n",
      "       'worst compactness', 'worst concavity', 'worst concave points'],\n",
      "      dtype='object')\n",
      "\n",
      "Selected Features:  15\n",
      "Accuracy on test set:  0.9649122807017544\n",
      "\n",
      "Index(['mean texture', 'mean smoothness', 'mean concave points',\n",
      "       'mean symmetry', 'radius error', 'perimeter error', 'area error',\n",
      "       'concavity error', 'worst radius', 'worst texture', 'worst perimeter',\n",
      "       'worst area', 'worst compactness', 'worst concavity',\n",
      "       'worst concave points'],\n",
      "      dtype='object')\n",
      "\n",
      "Selected Features:  16\n",
      "Accuracy on test set:  0.956140350877193\n",
      "\n",
      "Index(['mean texture', 'mean smoothness', 'mean concave points',\n",
      "       'mean symmetry', 'radius error', 'perimeter error', 'area error',\n",
      "       'concavity error', 'fractal dimension error', 'worst radius',\n",
      "       'worst texture', 'worst perimeter', 'worst area', 'worst compactness',\n",
      "       'worst concavity', 'worst concave points'],\n",
      "      dtype='object')\n",
      "\n",
      "Selected Features:  17\n",
      "Accuracy on test set:  0.9649122807017544\n",
      "\n",
      "Index(['mean texture', 'mean smoothness', 'mean concave points',\n",
      "       'mean symmetry', 'radius error', 'perimeter error', 'area error',\n",
      "       'concavity error', 'symmetry error', 'fractal dimension error',\n",
      "       'worst radius', 'worst texture', 'worst perimeter', 'worst area',\n",
      "       'worst compactness', 'worst concavity', 'worst concave points'],\n",
      "      dtype='object')\n",
      "\n",
      "Selected Features:  18\n",
      "Accuracy on test set:  0.9473684210526315\n",
      "\n",
      "Index(['mean texture', 'mean smoothness', 'mean concave points',\n",
      "       'mean symmetry', 'radius error', 'perimeter error', 'area error',\n",
      "       'smoothness error', 'concavity error', 'symmetry error',\n",
      "       'fractal dimension error', 'worst radius', 'worst texture',\n",
      "       'worst perimeter', 'worst area', 'worst compactness', 'worst concavity',\n",
      "       'worst concave points'],\n",
      "      dtype='object')\n",
      "\n",
      "Selected Features:  19\n",
      "Accuracy on test set:  0.9649122807017544\n",
      "\n",
      "Index(['mean texture', 'mean smoothness', 'mean concave points',\n",
      "       'mean symmetry', 'radius error', 'perimeter error', 'area error',\n",
      "       'smoothness error', 'compactness error', 'concavity error',\n",
      "       'symmetry error', 'fractal dimension error', 'worst radius',\n",
      "       'worst texture', 'worst perimeter', 'worst area', 'worst compactness',\n",
      "       'worst concavity', 'worst concave points'],\n",
      "      dtype='object')\n",
      "\n",
      "Selected Features:  20\n",
      "Accuracy on test set:  0.9473684210526315\n",
      "\n",
      "Index(['mean texture', 'mean smoothness', 'mean concave points',\n",
      "       'mean symmetry', 'radius error', 'perimeter error', 'area error',\n",
      "       'smoothness error', 'compactness error', 'concavity error',\n",
      "       'symmetry error', 'fractal dimension error', 'worst radius',\n",
      "       'worst texture', 'worst perimeter', 'worst area', 'worst smoothness',\n",
      "       'worst compactness', 'worst concavity', 'worst concave points'],\n",
      "      dtype='object')\n",
      "\n",
      "Selected Features:  21\n",
      "Accuracy on test set:  0.9649122807017544\n",
      "\n",
      "Index(['mean radius', 'mean texture', 'mean smoothness', 'mean concave points',\n",
      "       'mean symmetry', 'radius error', 'perimeter error', 'area error',\n",
      "       'smoothness error', 'compactness error', 'concavity error',\n",
      "       'symmetry error', 'fractal dimension error', 'worst radius',\n",
      "       'worst texture', 'worst perimeter', 'worst area', 'worst smoothness',\n",
      "       'worst compactness', 'worst concavity', 'worst concave points'],\n",
      "      dtype='object')\n",
      "\n",
      "Selected Features:  22\n",
      "Accuracy on test set:  0.9649122807017544\n",
      "\n",
      "Index(['mean radius', 'mean texture', 'mean smoothness', 'mean compactness',\n",
      "       'mean concave points', 'mean symmetry', 'radius error',\n",
      "       'perimeter error', 'area error', 'smoothness error',\n",
      "       'compactness error', 'concavity error', 'symmetry error',\n",
      "       'fractal dimension error', 'worst radius', 'worst texture',\n",
      "       'worst perimeter', 'worst area', 'worst smoothness',\n",
      "       'worst compactness', 'worst concavity', 'worst concave points'],\n",
      "      dtype='object')\n",
      "\n",
      "Selected Features:  23\n",
      "Accuracy on test set:  0.9649122807017544\n",
      "\n",
      "Index(['mean radius', 'mean texture', 'mean area', 'mean smoothness',\n",
      "       'mean compactness', 'mean concave points', 'mean symmetry',\n",
      "       'radius error', 'perimeter error', 'area error', 'smoothness error',\n",
      "       'compactness error', 'concavity error', 'symmetry error',\n",
      "       'fractal dimension error', 'worst radius', 'worst texture',\n",
      "       'worst perimeter', 'worst area', 'worst smoothness',\n",
      "       'worst compactness', 'worst concavity', 'worst concave points'],\n",
      "      dtype='object')\n",
      "\n",
      "Selected Features:  24\n",
      "Accuracy on test set:  0.9649122807017544\n",
      "\n",
      "Index(['mean radius', 'mean texture', 'mean perimeter', 'mean area',\n",
      "       'mean smoothness', 'mean compactness', 'mean concave points',\n",
      "       'mean symmetry', 'radius error', 'perimeter error', 'area error',\n",
      "       'smoothness error', 'compactness error', 'concavity error',\n",
      "       'symmetry error', 'fractal dimension error', 'worst radius',\n",
      "       'worst texture', 'worst perimeter', 'worst area', 'worst smoothness',\n",
      "       'worst compactness', 'worst concavity', 'worst concave points'],\n",
      "      dtype='object')\n",
      "\n",
      "Selected Features:  25\n",
      "Accuracy on test set:  0.9736842105263158\n",
      "\n",
      "Index(['mean radius', 'mean texture', 'mean perimeter', 'mean area',\n",
      "       'mean smoothness', 'mean compactness', 'mean concavity',\n",
      "       'mean concave points', 'mean symmetry', 'radius error',\n",
      "       'perimeter error', 'area error', 'smoothness error',\n",
      "       'compactness error', 'concavity error', 'symmetry error',\n",
      "       'fractal dimension error', 'worst radius', 'worst texture',\n",
      "       'worst perimeter', 'worst area', 'worst smoothness',\n",
      "       'worst compactness', 'worst concavity', 'worst concave points'],\n",
      "      dtype='object')\n",
      "\n",
      "Selected Features:  26\n",
      "Accuracy on test set:  0.9736842105263158\n",
      "\n",
      "Index(['mean radius', 'mean texture', 'mean perimeter', 'mean area',\n",
      "       'mean smoothness', 'mean compactness', 'mean concavity',\n",
      "       'mean concave points', 'mean symmetry', 'radius error', 'texture error',\n",
      "       'perimeter error', 'area error', 'smoothness error',\n",
      "       'compactness error', 'concavity error', 'symmetry error',\n",
      "       'fractal dimension error', 'worst radius', 'worst texture',\n",
      "       'worst perimeter', 'worst area', 'worst smoothness',\n",
      "       'worst compactness', 'worst concavity', 'worst concave points'],\n",
      "      dtype='object')\n",
      "\n",
      "Selected Features:  27\n",
      "Accuracy on test set:  0.9649122807017544\n",
      "\n",
      "Index(['mean radius', 'mean texture', 'mean perimeter', 'mean area',\n",
      "       'mean smoothness', 'mean compactness', 'mean concavity',\n",
      "       'mean concave points', 'mean symmetry', 'radius error', 'texture error',\n",
      "       'perimeter error', 'area error', 'smoothness error',\n",
      "       'compactness error', 'concavity error', 'symmetry error',\n",
      "       'fractal dimension error', 'worst radius', 'worst texture',\n",
      "       'worst perimeter', 'worst area', 'worst smoothness',\n",
      "       'worst compactness', 'worst concavity', 'worst concave points',\n",
      "       'worst symmetry'],\n",
      "      dtype='object')\n",
      "\n",
      "Selected Features:  28\n",
      "Accuracy on test set:  0.9649122807017544\n",
      "\n",
      "Index(['mean radius', 'mean texture', 'mean perimeter', 'mean area',\n",
      "       'mean smoothness', 'mean compactness', 'mean concavity',\n",
      "       'mean concave points', 'mean symmetry', 'radius error', 'texture error',\n",
      "       'perimeter error', 'area error', 'smoothness error',\n",
      "       'compactness error', 'concavity error', 'symmetry error',\n",
      "       'fractal dimension error', 'worst radius', 'worst texture',\n",
      "       'worst perimeter', 'worst area', 'worst smoothness',\n",
      "       'worst compactness', 'worst concavity', 'worst concave points',\n",
      "       'worst symmetry', 'worst fractal dimension'],\n",
      "      dtype='object')\n",
      "\n",
      "Selected Features:  29\n",
      "Accuracy on test set:  0.9649122807017544\n",
      "\n",
      "Index(['mean radius', 'mean texture', 'mean perimeter', 'mean area',\n",
      "       'mean smoothness', 'mean compactness', 'mean concavity',\n",
      "       'mean concave points', 'mean symmetry', 'radius error', 'texture error',\n",
      "       'perimeter error', 'area error', 'smoothness error',\n",
      "       'compactness error', 'concavity error', 'concave points error',\n",
      "       'symmetry error', 'fractal dimension error', 'worst radius',\n",
      "       'worst texture', 'worst perimeter', 'worst area', 'worst smoothness',\n",
      "       'worst compactness', 'worst concavity', 'worst concave points',\n",
      "       'worst symmetry', 'worst fractal dimension'],\n",
      "      dtype='object')\n",
      "\n",
      "Selected Features:  30\n",
      "Accuracy on test set:  0.9649122807017544\n",
      "\n",
      "Index(['mean radius', 'mean texture', 'mean perimeter', 'mean area',\n",
      "       'mean smoothness', 'mean compactness', 'mean concavity',\n",
      "       'mean concave points', 'mean symmetry', 'mean fractal dimension',\n",
      "       'radius error', 'texture error', 'perimeter error', 'area error',\n",
      "       'smoothness error', 'compactness error', 'concavity error',\n",
      "       'concave points error', 'symmetry error', 'fractal dimension error',\n",
      "       'worst radius', 'worst texture', 'worst perimeter', 'worst area',\n",
      "       'worst smoothness', 'worst compactness', 'worst concavity',\n",
      "       'worst concave points', 'worst symmetry', 'worst fractal dimension'],\n",
      "      dtype='object')\n",
      "\n"
     ]
    }
   ],
   "source": [
    "for index in range(1, 31):\n",
    "    sel = RFE(GradientBoostingClassifier(n_estimators=100, random_state=0), n_features_to_select = index)\n",
    "    sel.fit(x_train, y_train)\n",
    "    x_train_gra = sel.transform(x_train)\n",
    "    x_test_gra = sel.transform(x_test)\n",
    "    print(\"Selected Features Index: \", index)\n",
    "    run_random_forest(x_train_gra, x_test_gra, y_train, y_test)\n",
    "    features = x_train.columns[sel.get_support()]\n",
    "    print(\"Selected Features Names: \", features)\n",
    "    print()"
   ]
  },
  {
   "cell_type": "markdown",
   "metadata": {},
   "source": [
    "As we can see the maximum accuracy we got was with 6 features so our n_features_to_select should be 6."
   ]
  },
  {
   "cell_type": "markdown",
   "metadata": {},
   "source": [
    "### Lets find the \"n_features_to_select\" using RandomForestClassifier"
   ]
  },
  {
   "cell_type": "code",
   "execution_count": 48,
   "metadata": {},
   "outputs": [
    {
     "name": "stdout",
     "output_type": "stream",
     "text": [
      "Selected Features Index:  1\n",
      "Accuracy on test set:  0.8947368421052632\n",
      "\n",
      "Selected Features Names:  Index(['worst perimeter'], dtype='object')\n",
      "\n",
      "Selected Features Index:  2\n",
      "Accuracy on test set:  0.9298245614035088\n",
      "\n",
      "Selected Features Names:  Index(['mean concave points', 'worst perimeter'], dtype='object')\n",
      "\n",
      "Selected Features Index:  3\n",
      "Accuracy on test set:  0.9473684210526315\n",
      "\n",
      "Selected Features Names:  Index(['mean concave points', 'worst perimeter', 'worst concave points'], dtype='object')\n",
      "\n",
      "Selected Features Index:  4\n",
      "Accuracy on test set:  0.9649122807017544\n",
      "\n",
      "Selected Features Names:  Index(['mean concave points', 'worst perimeter', 'worst area',\n",
      "       'worst concave points'],\n",
      "      dtype='object')\n",
      "\n",
      "Selected Features Index:  5\n",
      "Accuracy on test set:  0.9649122807017544\n",
      "\n",
      "Selected Features Names:  Index(['mean concave points', 'worst radius', 'worst perimeter', 'worst area',\n",
      "       'worst concave points'],\n",
      "      dtype='object')\n",
      "\n",
      "Selected Features Index:  6\n",
      "Accuracy on test set:  0.956140350877193\n",
      "\n",
      "Selected Features Names:  Index(['mean concavity', 'mean concave points', 'worst radius',\n",
      "       'worst perimeter', 'worst area', 'worst concave points'],\n",
      "      dtype='object')\n",
      "\n",
      "Selected Features Index:  7\n",
      "Accuracy on test set:  0.956140350877193\n",
      "\n",
      "Selected Features Names:  Index(['mean area', 'mean concavity', 'mean concave points', 'worst radius',\n",
      "       'worst perimeter', 'worst area', 'worst concave points'],\n",
      "      dtype='object')\n",
      "\n",
      "Selected Features Index:  8\n",
      "Accuracy on test set:  0.9649122807017544\n",
      "\n",
      "Selected Features Names:  Index(['mean area', 'mean concavity', 'mean concave points', 'worst radius',\n",
      "       'worst texture', 'worst perimeter', 'worst area',\n",
      "       'worst concave points'],\n",
      "      dtype='object')\n",
      "\n",
      "Selected Features Index:  9\n",
      "Accuracy on test set:  0.9736842105263158\n",
      "\n",
      "Selected Features Names:  Index(['mean area', 'mean concavity', 'mean concave points', 'worst radius',\n",
      "       'worst texture', 'worst perimeter', 'worst area', 'worst concavity',\n",
      "       'worst concave points'],\n",
      "      dtype='object')\n",
      "\n",
      "Selected Features Index:  10\n",
      "Accuracy on test set:  0.9736842105263158\n",
      "\n",
      "Selected Features Names:  Index(['mean perimeter', 'mean area', 'mean concavity', 'mean concave points',\n",
      "       'worst radius', 'worst texture', 'worst perimeter', 'worst area',\n",
      "       'worst concavity', 'worst concave points'],\n",
      "      dtype='object')\n",
      "\n",
      "Selected Features Index:  11\n",
      "Accuracy on test set:  0.9649122807017544\n",
      "\n",
      "Selected Features Names:  Index(['mean radius', 'mean perimeter', 'mean area', 'mean concavity',\n",
      "       'mean concave points', 'worst radius', 'worst texture',\n",
      "       'worst perimeter', 'worst area', 'worst concavity',\n",
      "       'worst concave points'],\n",
      "      dtype='object')\n",
      "\n",
      "Selected Features Index:  12\n",
      "Accuracy on test set:  0.9736842105263158\n",
      "\n",
      "Selected Features Names:  Index(['mean radius', 'mean perimeter', 'mean area', 'mean concavity',\n",
      "       'mean concave points', 'area error', 'worst radius', 'worst texture',\n",
      "       'worst perimeter', 'worst area', 'worst concavity',\n",
      "       'worst concave points'],\n",
      "      dtype='object')\n",
      "\n",
      "Selected Features Index:  13\n",
      "Accuracy on test set:  0.9649122807017544\n",
      "\n",
      "Selected Features Names:  Index(['mean radius', 'mean perimeter', 'mean area', 'mean concavity',\n",
      "       'mean concave points', 'area error', 'worst radius', 'worst texture',\n",
      "       'worst perimeter', 'worst area', 'worst smoothness', 'worst concavity',\n",
      "       'worst concave points'],\n",
      "      dtype='object')\n",
      "\n",
      "Selected Features Index:  14\n",
      "Accuracy on test set:  0.9736842105263158\n",
      "\n",
      "Selected Features Names:  Index(['mean radius', 'mean texture', 'mean perimeter', 'mean area',\n",
      "       'mean concavity', 'mean concave points', 'area error', 'worst radius',\n",
      "       'worst texture', 'worst perimeter', 'worst area', 'worst smoothness',\n",
      "       'worst concavity', 'worst concave points'],\n",
      "      dtype='object')\n",
      "\n",
      "Selected Features Index:  15\n",
      "Accuracy on test set:  0.9736842105263158\n",
      "\n",
      "Selected Features Names:  Index(['mean radius', 'mean texture', 'mean perimeter', 'mean area',\n",
      "       'mean concavity', 'mean concave points', 'area error', 'worst radius',\n",
      "       'worst texture', 'worst perimeter', 'worst area', 'worst smoothness',\n",
      "       'worst concavity', 'worst concave points', 'worst symmetry'],\n",
      "      dtype='object')\n",
      "\n",
      "Selected Features Index:  16\n",
      "Accuracy on test set:  0.9736842105263158\n",
      "\n",
      "Selected Features Names:  Index(['mean radius', 'mean texture', 'mean perimeter', 'mean area',\n",
      "       'mean concavity', 'mean concave points', 'radius error', 'area error',\n",
      "       'worst radius', 'worst texture', 'worst perimeter', 'worst area',\n",
      "       'worst smoothness', 'worst concavity', 'worst concave points',\n",
      "       'worst symmetry'],\n",
      "      dtype='object')\n",
      "\n",
      "Selected Features Index:  17\n",
      "Accuracy on test set:  0.9824561403508771\n",
      "\n",
      "Selected Features Names:  Index(['mean radius', 'mean texture', 'mean perimeter', 'mean area',\n",
      "       'mean concavity', 'mean concave points', 'radius error', 'area error',\n",
      "       'worst radius', 'worst texture', 'worst perimeter', 'worst area',\n",
      "       'worst smoothness', 'worst compactness', 'worst concavity',\n",
      "       'worst concave points', 'worst symmetry'],\n",
      "      dtype='object')\n",
      "\n",
      "Selected Features Index:  18\n",
      "Accuracy on test set:  0.9649122807017544\n",
      "\n",
      "Selected Features Names:  Index(['mean radius', 'mean texture', 'mean perimeter', 'mean area',\n",
      "       'mean compactness', 'mean concavity', 'mean concave points',\n",
      "       'radius error', 'area error', 'worst radius', 'worst texture',\n",
      "       'worst perimeter', 'worst area', 'worst smoothness',\n",
      "       'worst compactness', 'worst concavity', 'worst concave points',\n",
      "       'worst symmetry'],\n",
      "      dtype='object')\n",
      "\n",
      "Selected Features Index:  19\n",
      "Accuracy on test set:  0.9649122807017544\n",
      "\n",
      "Selected Features Names:  Index(['mean radius', 'mean texture', 'mean perimeter', 'mean area',\n",
      "       'mean compactness', 'mean concavity', 'mean concave points',\n",
      "       'radius error', 'area error', 'worst radius', 'worst texture',\n",
      "       'worst perimeter', 'worst area', 'worst smoothness',\n",
      "       'worst compactness', 'worst concavity', 'worst concave points',\n",
      "       'worst symmetry', 'worst fractal dimension'],\n",
      "      dtype='object')\n",
      "\n",
      "Selected Features Index:  20\n",
      "Accuracy on test set:  0.9736842105263158\n",
      "\n",
      "Selected Features Names:  Index(['mean radius', 'mean texture', 'mean perimeter', 'mean area',\n",
      "       'mean compactness', 'mean concavity', 'mean concave points',\n",
      "       'radius error', 'perimeter error', 'area error', 'worst radius',\n",
      "       'worst texture', 'worst perimeter', 'worst area', 'worst smoothness',\n",
      "       'worst compactness', 'worst concavity', 'worst concave points',\n",
      "       'worst symmetry', 'worst fractal dimension'],\n",
      "      dtype='object')\n",
      "\n",
      "Selected Features Index:  21\n",
      "Accuracy on test set:  0.9736842105263158\n",
      "\n",
      "Selected Features Names:  Index(['mean radius', 'mean texture', 'mean perimeter', 'mean area',\n",
      "       'mean smoothness', 'mean compactness', 'mean concavity',\n",
      "       'mean concave points', 'radius error', 'perimeter error', 'area error',\n",
      "       'worst radius', 'worst texture', 'worst perimeter', 'worst area',\n",
      "       'worst smoothness', 'worst compactness', 'worst concavity',\n",
      "       'worst concave points', 'worst symmetry', 'worst fractal dimension'],\n",
      "      dtype='object')\n",
      "\n",
      "Selected Features Index:  22\n",
      "Accuracy on test set:  0.9736842105263158\n",
      "\n",
      "Selected Features Names:  Index(['mean radius', 'mean texture', 'mean perimeter', 'mean area',\n",
      "       'mean smoothness', 'mean compactness', 'mean concavity',\n",
      "       'mean concave points', 'radius error', 'perimeter error', 'area error',\n",
      "       'fractal dimension error', 'worst radius', 'worst texture',\n",
      "       'worst perimeter', 'worst area', 'worst smoothness',\n",
      "       'worst compactness', 'worst concavity', 'worst concave points',\n",
      "       'worst symmetry', 'worst fractal dimension'],\n",
      "      dtype='object')\n",
      "\n",
      "Selected Features Index:  23\n",
      "Accuracy on test set:  0.9649122807017544\n",
      "\n",
      "Selected Features Names:  Index(['mean radius', 'mean texture', 'mean perimeter', 'mean area',\n",
      "       'mean smoothness', 'mean compactness', 'mean concavity',\n",
      "       'mean concave points', 'radius error', 'perimeter error', 'area error',\n",
      "       'concavity error', 'fractal dimension error', 'worst radius',\n",
      "       'worst texture', 'worst perimeter', 'worst area', 'worst smoothness',\n",
      "       'worst compactness', 'worst concavity', 'worst concave points',\n",
      "       'worst symmetry', 'worst fractal dimension'],\n",
      "      dtype='object')\n",
      "\n",
      "Selected Features Index:  24\n",
      "Accuracy on test set:  0.9824561403508771\n",
      "\n",
      "Selected Features Names:  Index(['mean radius', 'mean texture', 'mean perimeter', 'mean area',\n",
      "       'mean smoothness', 'mean compactness', 'mean concavity',\n",
      "       'mean concave points', 'radius error', 'perimeter error', 'area error',\n",
      "       'compactness error', 'concavity error', 'fractal dimension error',\n",
      "       'worst radius', 'worst texture', 'worst perimeter', 'worst area',\n",
      "       'worst smoothness', 'worst compactness', 'worst concavity',\n",
      "       'worst concave points', 'worst symmetry', 'worst fractal dimension'],\n",
      "      dtype='object')\n",
      "\n",
      "Selected Features Index:  25\n",
      "Accuracy on test set:  0.956140350877193\n",
      "\n",
      "Selected Features Names:  Index(['mean radius', 'mean texture', 'mean perimeter', 'mean area',\n",
      "       'mean smoothness', 'mean compactness', 'mean concavity',\n",
      "       'mean concave points', 'radius error', 'perimeter error', 'area error',\n",
      "       'compactness error', 'concavity error', 'symmetry error',\n",
      "       'fractal dimension error', 'worst radius', 'worst texture',\n",
      "       'worst perimeter', 'worst area', 'worst smoothness',\n",
      "       'worst compactness', 'worst concavity', 'worst concave points',\n",
      "       'worst symmetry', 'worst fractal dimension'],\n",
      "      dtype='object')\n",
      "\n",
      "Selected Features Index:  26\n",
      "Accuracy on test set:  0.956140350877193\n",
      "\n",
      "Selected Features Names:  Index(['mean radius', 'mean texture', 'mean perimeter', 'mean area',\n",
      "       'mean smoothness', 'mean compactness', 'mean concavity',\n",
      "       'mean concave points', 'radius error', 'texture error',\n",
      "       'perimeter error', 'area error', 'compactness error', 'concavity error',\n",
      "       'symmetry error', 'fractal dimension error', 'worst radius',\n",
      "       'worst texture', 'worst perimeter', 'worst area', 'worst smoothness',\n",
      "       'worst compactness', 'worst concavity', 'worst concave points',\n",
      "       'worst symmetry', 'worst fractal dimension'],\n",
      "      dtype='object')\n",
      "\n",
      "Selected Features Index:  27\n",
      "Accuracy on test set:  0.9649122807017544\n",
      "\n",
      "Selected Features Names:  Index(['mean radius', 'mean texture', 'mean perimeter', 'mean area',\n",
      "       'mean smoothness', 'mean compactness', 'mean concavity',\n",
      "       'mean concave points', 'radius error', 'texture error',\n",
      "       'perimeter error', 'area error', 'compactness error', 'concavity error',\n",
      "       'concave points error', 'symmetry error', 'fractal dimension error',\n",
      "       'worst radius', 'worst texture', 'worst perimeter', 'worst area',\n",
      "       'worst smoothness', 'worst compactness', 'worst concavity',\n",
      "       'worst concave points', 'worst symmetry', 'worst fractal dimension'],\n",
      "      dtype='object')\n",
      "\n",
      "Selected Features Index:  28\n",
      "Accuracy on test set:  0.9649122807017544\n",
      "\n",
      "Selected Features Names:  Index(['mean radius', 'mean texture', 'mean perimeter', 'mean area',\n",
      "       'mean smoothness', 'mean compactness', 'mean concavity',\n",
      "       'mean concave points', 'mean symmetry', 'radius error', 'texture error',\n",
      "       'perimeter error', 'area error', 'compactness error', 'concavity error',\n",
      "       'concave points error', 'symmetry error', 'fractal dimension error',\n",
      "       'worst radius', 'worst texture', 'worst perimeter', 'worst area',\n",
      "       'worst smoothness', 'worst compactness', 'worst concavity',\n",
      "       'worst concave points', 'worst symmetry', 'worst fractal dimension'],\n",
      "      dtype='object')\n",
      "\n",
      "Selected Features Index:  29\n",
      "Accuracy on test set:  0.9649122807017544\n",
      "\n",
      "Selected Features Names:  Index(['mean radius', 'mean texture', 'mean perimeter', 'mean area',\n",
      "       'mean smoothness', 'mean compactness', 'mean concavity',\n",
      "       'mean concave points', 'mean symmetry', 'mean fractal dimension',\n",
      "       'radius error', 'texture error', 'perimeter error', 'area error',\n",
      "       'compactness error', 'concavity error', 'concave points error',\n",
      "       'symmetry error', 'fractal dimension error', 'worst radius',\n",
      "       'worst texture', 'worst perimeter', 'worst area', 'worst smoothness',\n",
      "       'worst compactness', 'worst concavity', 'worst concave points',\n",
      "       'worst symmetry', 'worst fractal dimension'],\n",
      "      dtype='object')\n",
      "\n",
      "Selected Features Index:  30\n",
      "Accuracy on test set:  0.9649122807017544\n",
      "\n",
      "Selected Features Names:  Index(['mean radius', 'mean texture', 'mean perimeter', 'mean area',\n",
      "       'mean smoothness', 'mean compactness', 'mean concavity',\n",
      "       'mean concave points', 'mean symmetry', 'mean fractal dimension',\n",
      "       'radius error', 'texture error', 'perimeter error', 'area error',\n",
      "       'smoothness error', 'compactness error', 'concavity error',\n",
      "       'concave points error', 'symmetry error', 'fractal dimension error',\n",
      "       'worst radius', 'worst texture', 'worst perimeter', 'worst area',\n",
      "       'worst smoothness', 'worst compactness', 'worst concavity',\n",
      "       'worst concave points', 'worst symmetry', 'worst fractal dimension'],\n",
      "      dtype='object')\n",
      "\n"
     ]
    }
   ],
   "source": [
    "for index in range(1, 31):\n",
    "    sel = RFE(RandomForestClassifier(n_estimators=100, random_state=0), n_features_to_select = index)\n",
    "    sel.fit(x_train, y_train)\n",
    "    x_train_gra = sel.transform(x_train)\n",
    "    x_test_gra = sel.transform(x_test)\n",
    "    print(\"Selected Features Index: \", index)\n",
    "    run_random_forest(x_train_gra, x_test_gra, y_train, y_test)\n",
    "    features = x_train.columns[sel.get_support()]\n",
    "    print(\"Selected Features Names: \", features)\n",
    "    print()"
   ]
  },
  {
   "cell_type": "code",
   "execution_count": null,
   "metadata": {},
   "outputs": [],
   "source": []
  }
 ],
 "metadata": {
  "kernelspec": {
   "display_name": "Python 3",
   "language": "python",
   "name": "python3"
  },
  "language_info": {
   "codemirror_mode": {
    "name": "ipython",
    "version": 3
   },
   "file_extension": ".py",
   "mimetype": "text/x-python",
   "name": "python",
   "nbconvert_exporter": "python",
   "pygments_lexer": "ipython3",
   "version": "3.8.3"
  }
 },
 "nbformat": 4,
 "nbformat_minor": 4
}
